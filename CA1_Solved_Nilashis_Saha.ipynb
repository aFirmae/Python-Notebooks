{
  "cells": [
    {
      "cell_type": "markdown",
      "metadata": {
        "id": "view-in-github",
        "colab_type": "text"
      },
      "source": [
        "<a href=\"https://colab.research.google.com/github/aFirmae/Python-Notebooks/blob/main/CA1_Solved_Nilashis_Saha.ipynb\" target=\"_parent\"><img src=\"https://colab.research.google.com/assets/colab-badge.svg\" alt=\"Open In Colab\"/></a>"
      ]
    },
    {
      "cell_type": "markdown",
      "id": "f17f7235",
      "metadata": {
        "id": "f17f7235"
      },
      "source": [
        "#### Question: Write a program in Python to find the addition & average of three float numbers.\n"
      ]
    },
    {
      "cell_type": "code",
      "execution_count": null,
      "id": "7c43a2e8",
      "metadata": {
        "id": "7c43a2e8"
      },
      "outputs": [],
      "source": [
        "a = float(input(\"Enter first number: \"))\n",
        "b = float(input(\"Enter second number: \"))\n",
        "c = float(input(\"Enter third number: \"))\n",
        "\n",
        "sum_ = a + b + c\n",
        "avg = sum_ / 3\n",
        "\n",
        "print(f\"Sum: {sum_}, Average: {avg}\")"
      ]
    },
    {
      "cell_type": "markdown",
      "id": "7f50d73b",
      "metadata": {
        "id": "7f50d73b"
      },
      "source": [
        "#### Question: Write a program in Python to find the volume of a sphere with radius 6cm.\n"
      ]
    },
    {
      "cell_type": "code",
      "execution_count": null,
      "id": "5a54a4a5",
      "metadata": {
        "id": "5a54a4a5"
      },
      "outputs": [],
      "source": [
        "import math\n",
        "\n",
        "radius = 6\n",
        "volume = (4/3) * math.pi * radius ** 3\n",
        "print(f\"Volume of the sphere: {volume} cubic cm\")"
      ]
    },
    {
      "cell_type": "markdown",
      "id": "0947aab7",
      "metadata": {
        "id": "0947aab7"
      },
      "source": [
        "#### Question: Write a program in Python to find the area of a circle.\n"
      ]
    },
    {
      "cell_type": "code",
      "execution_count": null,
      "id": "a8efafe7",
      "metadata": {
        "id": "a8efafe7"
      },
      "outputs": [],
      "source": [
        "import math\n",
        "\n",
        "radius = float(input(\"Enter the radius of the circle: \"))\n",
        "area = math.pi * radius ** 2\n",
        "print(f\"Area of the circle: {area} square units\")"
      ]
    },
    {
      "cell_type": "markdown",
      "id": "3661a07d",
      "metadata": {
        "id": "3661a07d"
      },
      "source": [
        "#### Question: Write a program in Python to compute simple interest.\n"
      ]
    },
    {
      "cell_type": "code",
      "execution_count": null,
      "id": "4508aa5e",
      "metadata": {
        "id": "4508aa5e"
      },
      "outputs": [],
      "source": [
        "P = float(input(\"Enter the principal amount: \"))\n",
        "R = float(input(\"Enter the rate of interest: \"))\n",
        "T = float(input(\"Enter the time in years: \"))\n",
        "\n",
        "SI = (P * R * T) / 100\n",
        "print(f\"Simple Interest: {SI}\")"
      ]
    },
    {
      "cell_type": "markdown",
      "id": "2fb463b1",
      "metadata": {
        "id": "2fb463b1"
      },
      "source": [
        "#### Question: Write a program in Python to swap two numbers without using third variable.\n"
      ]
    },
    {
      "cell_type": "code",
      "execution_count": null,
      "id": "5b786f23",
      "metadata": {
        "id": "5b786f23"
      },
      "outputs": [],
      "source": [
        "a = int(input(\"Enter the first number: \"))\n",
        "b = int(input(\"Enter the second number: \"))\n",
        "\n",
        "a, b = b, a\n",
        "\n",
        "print(f\"After swapping: a = {a}, b = {b}\")"
      ]
    },
    {
      "cell_type": "markdown",
      "id": "50723344",
      "metadata": {
        "id": "50723344"
      },
      "source": [
        "#### Question: Write a program in Python to convert any temperature from Celsius to Fahrenheit.\n"
      ]
    },
    {
      "cell_type": "code",
      "execution_count": null,
      "id": "18a98bfe",
      "metadata": {
        "id": "18a98bfe"
      },
      "outputs": [],
      "source": [
        "C = float(input(\"Enter temperature in Celsius: \"))\n",
        "F = (C * 9/5) + 32\n",
        "print(f\"{C} Celsius is equal to {F} Fahrenheit.\")"
      ]
    },
    {
      "cell_type": "markdown",
      "id": "c03c5f2e",
      "metadata": {
        "id": "c03c5f2e"
      },
      "source": [
        "#### Question: Write a program in Python to convert a given number of days into days, month, year and week.\n"
      ]
    },
    {
      "cell_type": "code",
      "execution_count": null,
      "id": "93f1ddb6",
      "metadata": {
        "id": "93f1ddb6"
      },
      "outputs": [],
      "source": [
        "days = int(input(\"Enter number of days: \"))\n",
        "\n",
        "years = days // 365\n",
        "remaining_days = days % 365\n",
        "months = remaining_days // 30\n",
        "remaining_days = remaining_days % 30\n",
        "weeks = remaining_days // 7\n",
        "remaining_days = remaining_days % 7\n",
        "\n",
        "print(f\"{days} days is equivalent to {years} years, {months} months, {weeks} weeks, and {remaining_days} days.\")"
      ]
    },
    {
      "cell_type": "markdown",
      "id": "96b8795d",
      "metadata": {
        "id": "96b8795d"
      },
      "source": [
        "#### Question: Write a Python Program to find the gravitational force acting between two objects."
      ]
    },
    {
      "cell_type": "code",
      "execution_count": null,
      "id": "d2e3e80e",
      "metadata": {
        "id": "d2e3e80e"
      },
      "outputs": [],
      "source": [
        "m1 = float(input(\"Enter the mass of the first object (in kg): \"))\n",
        "m2 = float(input(\"Enter the mass of the second object (in kg): \"))\n",
        "r = float(input(\"Enter the distance between the centers of the two objects (in meters): \"))\n",
        "\n",
        "G = 6.67430e-11\n",
        "F = (G * m1 * m2) / (r ** 2)\n",
        "\n",
        "print(f\"The gravitational force between the two objects is: {F} N\")"
      ]
    },
    {
      "cell_type": "markdown",
      "id": "0cfb290f",
      "metadata": {
        "id": "0cfb290f"
      },
      "source": [
        "#### Question: Write a program in Python to find given no is Even or Odd."
      ]
    },
    {
      "cell_type": "code",
      "execution_count": null,
      "id": "6dc8b7d9",
      "metadata": {
        "id": "6dc8b7d9"
      },
      "outputs": [],
      "source": [
        "num = int(input(\"Enter a number: \"))\n",
        "\n",
        "if num % 2 == 0:\n",
        "    print(f\"{num} is even.\")\n",
        "else:\n",
        "    print(f\"{num} is odd.\")"
      ]
    },
    {
      "cell_type": "markdown",
      "id": "8ae1f82a",
      "metadata": {
        "id": "8ae1f82a"
      },
      "source": [
        "#### Question: Take input from user, if it is greater than 15 print two times of difference, if it’s less than 15 print four times of difference."
      ]
    },
    {
      "cell_type": "code",
      "execution_count": null,
      "id": "9941b776",
      "metadata": {
        "id": "9941b776"
      },
      "outputs": [],
      "source": [
        "num = int(input(\"Enter a number: \"))\n",
        "\n",
        "if num > 15:\n",
        "    difference = num - 15\n",
        "    result = 2 * difference\n",
        "else:\n",
        "    difference = 15 - num\n",
        "    result = 4 * difference\n",
        "\n",
        "print(f\"The result is: {result}\")"
      ]
    },
    {
      "cell_type": "markdown",
      "id": "59732549",
      "metadata": {
        "id": "59732549"
      },
      "source": [
        "#### Question: Write a program in Python to find largest among three numbers."
      ]
    },
    {
      "cell_type": "code",
      "execution_count": null,
      "id": "78173def",
      "metadata": {
        "id": "78173def"
      },
      "outputs": [],
      "source": [
        "a = float(input(\"Enter the first number: \"))\n",
        "b = float(input(\"Enter the second number: \"))\n",
        "c = float(input(\"Enter the third number: \"))\n",
        "\n",
        "largest = max(a, b, c)\n",
        "\n",
        "print(f\"The largest number is: {largest}\")"
      ]
    },
    {
      "cell_type": "markdown",
      "id": "59718820",
      "metadata": {
        "id": "59718820"
      },
      "source": [
        "#### Question: Write a program in Python to check a triangle is equilateral,scalene or isosclees."
      ]
    },
    {
      "cell_type": "code",
      "execution_count": null,
      "id": "e62f4aa3",
      "metadata": {
        "id": "e62f4aa3"
      },
      "outputs": [],
      "source": [
        "side1 = float(input(\"Enter the length of side 1: \"))\n",
        "side2 = float(input(\"Enter the length of side 2: \"))\n",
        "side3 = float(input(\"Enter the length of side 3: \"))\n",
        "\n",
        "if side1 == side2 == side3:\n",
        "    print(\"The triangle is equilateral.\")\n",
        "elif side1 != side2 != side3:\n",
        "    print(\"The triangle is scalene.\")\n",
        "else:\n",
        "    print(\"The triangle is isosceles.\")"
      ]
    },
    {
      "cell_type": "markdown",
      "id": "e1975dec",
      "metadata": {
        "id": "e1975dec"
      },
      "source": [
        "#### Question: Write a program in Python to check a given year is leapyear or not."
      ]
    },
    {
      "cell_type": "code",
      "execution_count": null,
      "id": "3ca9e311",
      "metadata": {
        "id": "3ca9e311"
      },
      "outputs": [],
      "source": [
        "year = int(input(\"Enter a year: \"))\n",
        "\n",
        "if (year % 4 == 0 and year % 100 != 0) or (year % 400 == 0):\n",
        "    print(f\"{year} is a leap year.\")\n",
        "else:\n",
        "    print(f\"{year} is not a leap year.\")"
      ]
    },
    {
      "cell_type": "markdown",
      "id": "2b86e299",
      "metadata": {
        "id": "2b86e299"
      },
      "source": [
        "#### Question: Take marks of a student of four different subject find average depending on average find Grade."
      ]
    },
    {
      "cell_type": "code",
      "execution_count": null,
      "id": "ba827339",
      "metadata": {
        "id": "ba827339"
      },
      "outputs": [],
      "source": [
        "subject1 = float(input(\"Enter marks for subject 1: \"))\n",
        "subject2 = float(input(\"Enter marks for subject 2: \"))\n",
        "subject3 = float(input(\"Enter marks for subject 3: \"))\n",
        "subject4 = float(input(\"Enter marks for subject 4: \"))\n",
        "\n",
        "average = (subject1 + subject2 + subject3 + subject4) / 4\n",
        "\n",
        "if average >= 75:\n",
        "    grade = 'A'\n",
        "elif average >= 60:\n",
        "    grade = 'B'\n",
        "elif average >= 40:\n",
        "    grade = 'C'\n",
        "else:\n",
        "    grade = 'D'\n",
        "\n",
        "print(f\"Average marks: {average}\")\n",
        "print(f\"Grade: {grade}\")"
      ]
    },
    {
      "cell_type": "markdown",
      "id": "6faaa34a",
      "metadata": {
        "id": "6faaa34a"
      },
      "source": [
        "#### Question: Write a program in Python to implement a simple calculator."
      ]
    },
    {
      "cell_type": "code",
      "execution_count": null,
      "id": "cf9e0023",
      "metadata": {
        "id": "cf9e0023"
      },
      "outputs": [],
      "source": [
        "def add(num1, num2):\n",
        "    return num1 + num2\n",
        "\n",
        "def subtract(num1, num2):\n",
        "    return num1 - num2\n",
        "\n",
        "def multiply(num1, num2):\n",
        "    return num1 * num2\n",
        "\n",
        "def divide(num1, num2):\n",
        "    return num1 / num2\n",
        "\n",
        "print(\"Simple Calculator\")\n",
        "print(\"1. Add\")\n",
        "print(\"2. Subtract\")\n",
        "print(\"3. Multiply\")\n",
        "print(\"4. Divide\")\n",
        "\n",
        "choice = int(input(\"Enter your choice (1-4): \"))\n",
        "\n",
        "num1 = float(input(\"Enter the first number: \"))\n",
        "num2 = float(input(\"Enter the second number: \"))\n",
        "\n",
        "result = match choice:\n",
        "    case 1:\n",
        "        add(num1, num2)\n",
        "    case 2:\n",
        "        subtract(num1, num2)\n",
        "    case 3:\n",
        "        multiply(num1, num2)\n",
        "    case 4:\n",
        "        if num2 == 0:\n",
        "            print(\"Error: Cannot divide by zero\")\n",
        "        else:\n",
        "            divide(num1, num2)\n",
        "    case _:\n",
        "        print(\"Invalid choice\")\n",
        "\n",
        "if isinstance(result, float):\n",
        "    print(f\"The result is: {result}\")"
      ]
    }
  ],
  "metadata": {
    "language_info": {
      "name": "python"
    },
    "colab": {
      "provenance": [],
      "include_colab_link": true
    }
  },
  "nbformat": 4,
  "nbformat_minor": 5
}