{
  "cells": [
    {
      "cell_type": "markdown",
      "metadata": {
        "id": "view-in-github",
        "colab_type": "text"
      },
      "source": [
        "<a href=\"https://colab.research.google.com/github/aFirmae/Python-Notebooks/blob/main/CA1_Solved_Nilashis_Saha.ipynb\" target=\"_parent\"><img src=\"https://colab.research.google.com/assets/colab-badge.svg\" alt=\"Open In Colab\"/></a>"
      ]
    },
    {
      "cell_type": "markdown",
      "id": "f17f7235",
      "metadata": {
        "id": "f17f7235"
      },
      "source": [
        "#### Question: Write a program in Python to find the addition & average of three float numbers.\n"
      ]
    },
    {
      "cell_type": "code",
      "execution_count": null,
      "id": "7c43a2e8",
      "metadata": {
        "id": "7c43a2e8"
      },
      "outputs": [],
      "source": [
        "a = float(input(\"Enter first number: \"))\n",
        "b = float(input(\"Enter second number: \"))\n",
        "c = float(input(\"Enter third number: \"))\n",
        "\n",
        "sum_ = a + b + c\n",
        "avg = sum_ / 3\n",
        "\n",
        "print(f\"Sum: {sum_}, Average: {avg}\")"
      ]
    },
    {
      "cell_type": "markdown",
      "id": "7f50d73b",
      "metadata": {
        "id": "7f50d73b"
      },
      "source": [
        "#### Question: Write a program in Python to find the volume of a sphere with radius 6cm.\n"
      ]
    },
    {
      "cell_type": "code",
      "execution_count": null,
      "id": "5a54a4a5",
      "metadata": {
        "id": "5a54a4a5"
      },
      "outputs": [],
      "source": [
        "import math\n",
        "\n",
        "radius = 6\n",
        "volume = (4/3) * math.pi * radius ** 3\n",
        "print(f\"Volume of the sphere: {volume} cubic cm\")"
      ]
    },
    {
      "cell_type": "markdown",
      "id": "0947aab7",
      "metadata": {
        "id": "0947aab7"
      },
      "source": [
        "#### Question: Write a program in Python to find the area of a circle.\n"
      ]
    },
    {
      "cell_type": "code",
      "execution_count": null,
      "id": "a8efafe7",
      "metadata": {
        "id": "a8efafe7"
      },
      "outputs": [],
      "source": [
        "import math\n",
        "\n",
        "radius = float(input(\"Enter the radius of the circle: \"))\n",
        "area = math.pi * radius ** 2\n",
        "print(f\"Area of the circle: {area} square units\")"
      ]
    },
    {
      "cell_type": "markdown",
      "id": "3661a07d",
      "metadata": {
        "id": "3661a07d"
      },
      "source": [
        "#### Question: Write a program in Python to compute simple interest.\n"
      ]
    },
    {
      "cell_type": "code",
      "execution_count": null,
      "id": "4508aa5e",
      "metadata": {
        "id": "4508aa5e"
      },
      "outputs": [],
      "source": [
        "P = float(input(\"Enter the principal amount: \"))\n",
        "R = float(input(\"Enter the rate of interest: \"))\n",
        "T = float(input(\"Enter the time in years: \"))\n",
        "\n",
        "SI = (P * R * T) / 100\n",
        "print(f\"Simple Interest: {SI}\")"
      ]
    },
    {
      "cell_type": "markdown",
      "id": "2fb463b1",
      "metadata": {
        "id": "2fb463b1"
      },
      "source": [
        "#### Question: Write a program in Python to swap two numbers without using third variable.\n"
      ]
    },
    {
      "cell_type": "code",
      "execution_count": null,
      "id": "5b786f23",
      "metadata": {
        "id": "5b786f23"
      },
      "outputs": [],
      "source": [
        "a = int(input(\"Enter the first number: \"))\n",
        "b = int(input(\"Enter the second number: \"))\n",
        "\n",
        "a, b = b, a\n",
        "\n",
        "print(f\"After swapping: a = {a}, b = {b}\")"
      ]
    },
    {
      "cell_type": "markdown",
      "id": "50723344",
      "metadata": {
        "id": "50723344"
      },
      "source": [
        "#### Question: Write a program in Python to convert any temperature from Celsius to Fahrenheit.\n"
      ]
    },
    {
      "cell_type": "code",
      "execution_count": null,
      "id": "18a98bfe",
      "metadata": {
        "id": "18a98bfe"
      },
      "outputs": [],
      "source": [
        "C = float(input(\"Enter temperature in Celsius: \"))\n",
        "F = (C * 9/5) + 32\n",
        "print(f\"{C} Celsius is equal to {F} Fahrenheit.\")"
      ]
    },
    {
      "cell_type": "markdown",
      "id": "c03c5f2e",
      "metadata": {
        "id": "c03c5f2e"
      },
      "source": [
        "#### Question: Write a program in Python to convert a given number of days into days, month, year and week.\n"
      ]
    },
    {
      "cell_type": "code",
      "execution_count": null,
      "id": "93f1ddb6",
      "metadata": {
        "id": "93f1ddb6"
      },
      "outputs": [],
      "source": [
        "days = int(input(\"Enter number of days: \"))\n",
        "\n",
        "years = days // 365\n",
        "remaining_days = days % 365\n",
        "months = remaining_days // 30\n",
        "remaining_days = remaining_days % 30\n",
        "weeks = remaining_days // 7\n",
        "remaining_days = remaining_days % 7\n",
        "\n",
        "print(f\"{days} days is equivalent to {years} years, {months} months, {weeks} weeks, and {remaining_days} days.\")"
      ]
    },
    {
      "cell_type": "markdown",
      "id": "96b8795d",
      "metadata": {
        "id": "96b8795d"
      },
      "source": [
        "#### Question: Write a Python Program to find the gravitational force acting between two objects."
      ]
    },
    {
      "cell_type": "code",
      "execution_count": null,
      "id": "d2e3e80e",
      "metadata": {
        "id": "d2e3e80e"
      },
      "outputs": [],
      "source": [
        "m1 = float(input(\"Enter the mass of the first object (in kg): \"))\n",
        "m2 = float(input(\"Enter the mass of the second object (in kg): \"))\n",
        "r = float(input(\"Enter the distance between the centers of the two objects (in meters): \"))\n",
        "\n",
        "G = 6.67430e-11\n",
        "F = (G * m1 * m2) / (r ** 2)\n",
        "\n",
        "print(f\"The gravitational force between the two objects is: {F} N\")"
      ]
    },
    {
      "cell_type": "markdown",
      "id": "0cfb290f",
      "metadata": {
        "id": "0cfb290f"
      },
      "source": [
        "#### Question: Write a program in Python to find given no is Even or Odd."
      ]
    },
    {
      "cell_type": "code",
      "execution_count": null,
      "id": "6dc8b7d9",
      "metadata": {
        "id": "6dc8b7d9"
      },
      "outputs": [],
      "source": [
        "num = int(input(\"Enter a number: \"))\n",
        "\n",
        "if num % 2 == 0:\n",
        "    print(f\"{num} is even.\")\n",
        "else:\n",
        "    print(f\"{num} is odd.\")"
      ]
    },
    {
      "cell_type": "markdown",
      "id": "8ae1f82a",
      "metadata": {
        "id": "8ae1f82a"
      },
      "source": [
        "#### Question: Take input from user, if it is greater than 15 print two times of difference, if it’s less than 15 print four times of difference."
      ]
    },
    {
      "cell_type": "code",
      "execution_count": null,
      "id": "9941b776",
      "metadata": {
        "id": "9941b776"
      },
      "outputs": [],
      "source": [
        "num = int(input(\"Enter a number: \"))\n",
        "\n",
        "if num > 15:\n",
        "    difference = num - 15\n",
        "    result = 2 * difference\n",
        "else:\n",
        "    difference = 15 - num\n",
        "    result = 4 * difference\n",
        "\n",
        "print(f\"The result is: {result}\")"
      ]
    },
    {
      "cell_type": "markdown",
      "id": "59732549",
      "metadata": {
        "id": "59732549"
      },
      "source": [
        "#### Question: Write a program in Python to find largest among three numbers."
      ]
    },
    {
      "cell_type": "code",
      "execution_count": null,
      "id": "78173def",
      "metadata": {
        "id": "78173def"
      },
      "outputs": [],
      "source": [
        "a = float(input(\"Enter the first number: \"))\n",
        "b = float(input(\"Enter the second number: \"))\n",
        "c = float(input(\"Enter the third number: \"))\n",
        "\n",
        "largest = max(a, b, c)\n",
        "\n",
        "print(f\"The largest number is: {largest}\")"
      ]
    },
    {
      "cell_type": "markdown",
      "id": "59718820",
      "metadata": {
        "id": "59718820"
      },
      "source": [
        "#### Question: Write a program in Python to check a triangle is equilateral,scalene or isosclees."
      ]
    },
    {
      "cell_type": "code",
      "execution_count": null,
      "id": "e62f4aa3",
      "metadata": {
        "id": "e62f4aa3"
      },
      "outputs": [],
      "source": [
        "side1 = float(input(\"Enter the length of side 1: \"))\n",
        "side2 = float(input(\"Enter the length of side 2: \"))\n",
        "side3 = float(input(\"Enter the length of side 3: \"))\n",
        "\n",
        "if side1 == side2 == side3:\n",
        "    print(\"The triangle is equilateral.\")\n",
        "elif side1 != side2 != side3:\n",
        "    print(\"The triangle is scalene.\")\n",
        "else:\n",
        "    print(\"The triangle is isosceles.\")"
      ]
    },
    {
      "cell_type": "markdown",
      "id": "e1975dec",
      "metadata": {
        "id": "e1975dec"
      },
      "source": [
        "#### Question: Write a program in Python to check a given year is leapyear or not."
      ]
    },
    {
      "cell_type": "code",
      "execution_count": null,
      "id": "3ca9e311",
      "metadata": {
        "id": "3ca9e311"
      },
      "outputs": [],
      "source": [
        "year = int(input(\"Enter a year: \"))\n",
        "\n",
        "if (year % 4 == 0 and year % 100 != 0) or (year % 400 == 0):\n",
        "    print(f\"{year} is a leap year.\")\n",
        "else:\n",
        "    print(f\"{year} is not a leap year.\")"
      ]
    },
    {
      "cell_type": "markdown",
      "id": "2b86e299",
      "metadata": {
        "id": "2b86e299"
      },
      "source": [
        "#### Question: Take marks of a student of four different subject find average depending on average find Grade."
      ]
    },
    {
      "cell_type": "code",
      "execution_count": null,
      "id": "ba827339",
      "metadata": {
        "id": "ba827339"
      },
      "outputs": [],
      "source": [
        "subject1 = float(input(\"Enter marks for subject 1: \"))\n",
        "subject2 = float(input(\"Enter marks for subject 2: \"))\n",
        "subject3 = float(input(\"Enter marks for subject 3: \"))\n",
        "subject4 = float(input(\"Enter marks for subject 4: \"))\n",
        "\n",
        "average = (subject1 + subject2 + subject3 + subject4) / 4\n",
        "\n",
        "if average >= 75:\n",
        "    grade = 'A'\n",
        "elif average >= 60:\n",
        "    grade = 'B'\n",
        "elif average >= 40:\n",
        "    grade = 'C'\n",
        "else:\n",
        "    grade = 'D'\n",
        "\n",
        "print(f\"Average marks: {average}\")\n",
        "print(f\"Grade: {grade}\")"
      ]
    },
    {
      "cell_type": "markdown",
      "id": "6faaa34a",
      "metadata": {
        "id": "6faaa34a"
      },
      "source": [
        "#### Question: Write a program in Python to implement a simple calculator."
      ]
    },
    {
      "cell_type": "code",
      "execution_count": null,
      "id": "29e83f81",
      "metadata": {
        "id": "29e83f81"
      },
      "outputs": [],
      "source": [
        "def add(num1, num2):\n",
        "    return num1 + num2\n",
        "\n",
        "def subtract(num1, num2):\n",
        "    return num1 - num2\n",
        "\n",
        "def multiply(num1, num2):\n",
        "    return num1 * num2\n",
        "\n",
        "def divide(num1, num2):\n",
        "    if num2 != 0:\n",
        "        return num1 / num2\n",
        "    else:\n",
        "        return \"Error: Division by zero\"\n",
        "\n",
        "print(\"Simple Calculator\")\n",
        "print(\"1. Add\")\n",
        "print(\"2. Subtract\")\n",
        "print(\"3. Multiply\")\n",
        "print(\"4. Divide\")\n",
        "\n",
        "choice = int(input(\"Enter your choice (1-4): \"))\n",
        "\n",
        "if choice in [1, 2, 3, 4]:\n",
        "    num1 = float(input(\"Enter the first number: \"))\n",
        "    num2 = float(input(\"Enter the second number: \"))\n",
        "\n",
        "    if choice == 1:\n",
        "        result = add(num1, num2)\n",
        "        print(f\"The sum of {num1} and {num2} is: {result}\")\n",
        "    elif choice == 2:\n",
        "        result = subtract(num1, num2)\n",
        "        print(f\"The difference between {num1} and {num2} is: {result}\")\n",
        "    elif choice == 3:\n",
        "        result = multiply(num1, num2)\n",
        "        print(f\"The product of {num1} and {num2} is: {result}\")\n",
        "    elif choice == 4:\n",
        "        result = divide(num1, num2)\n",
        "        print(f\"The division of {num1} by {num2} is: {result}\")\n",
        "else:\n",
        "    print(\"Invalid choice. Please select a valid option (1-4).\")"
      ]
    },
    {
      "cell_type": "markdown",
      "id": "7bc12adc",
      "metadata": {
        "id": "7bc12adc"
      },
      "source": [
        "#### Question: Write a program in Python to find the roots of Quadratic equation."
      ]
    },
    {
      "cell_type": "code",
      "execution_count": null,
      "id": "370b8133",
      "metadata": {
        "id": "370b8133"
      },
      "outputs": [],
      "source": [
        "import math\n",
        "\n",
        "a = float(input(\"Enter the coefficient of x^2: \"))\n",
        "b = float(input(\"Enter the coefficient of x: \"))\n",
        "c = float(input(\"Enter the constant term: \"))\n",
        "\n",
        "discriminant = b**2 - 4*a*c\n",
        "\n",
        "if discriminant > 0:\n",
        "    root1 = (-b + math.sqrt(discriminant)) / (2*a)\n",
        "    root2 = (-b - math.sqrt(discriminant)) / (2*a)\n",
        "    print(f\"The roots are {root1} and {root2}\")\n",
        "elif discriminant == 0:\n",
        "    root = -b / (2*a)\n",
        "    print(f\"The root is {root}\")\n",
        "else:\n",
        "    real_part = -b / (2*a)\n",
        "    imaginary_part = math.sqrt(-discriminant) / (2*a)\n",
        "    root1 = complex(real_part, imaginary_part)\n",
        "    root2 = complex(real_part, -imaginary_part)\n",
        "    print(f\"The roots are {root1} and {root2}\")"
      ]
    },
    {
      "cell_type": "markdown",
      "id": "c9d1e3f6",
      "metadata": {
        "id": "c9d1e3f6"
      },
      "source": [
        "#### Question: Write a program in Python to print 1 to n."
      ]
    },
    {
      "cell_type": "code",
      "execution_count": null,
      "id": "bfdc7046",
      "metadata": {
        "id": "bfdc7046"
      },
      "outputs": [],
      "source": [
        "def print_numbers(n):\n",
        "    if n > 1:\n",
        "        print_numbers(n-1)\n",
        "    print(n)\n",
        "\n",
        "n = int(input(\"Enter the value of n: \"))\n",
        "print_numbers(n)"
      ]
    },
    {
      "cell_type": "markdown",
      "id": "f021a952",
      "metadata": {
        "id": "f021a952"
      },
      "source": [
        "#### Question: Write a program in Python to print sum of N natural numbers."
      ]
    },
    {
      "cell_type": "code",
      "execution_count": null,
      "id": "d6ad361b",
      "metadata": {
        "id": "d6ad361b"
      },
      "outputs": [],
      "source": [
        "n = int(input(\"Enter a number: \"))\n",
        "sum_ = (n * (n + 1)) // 2\n",
        "\n",
        "print(f\"The sum of natural numbers up to {n} is: {sum_}\")"
      ]
    },
    {
      "cell_type": "markdown",
      "id": "9128e65e",
      "metadata": {
        "id": "9128e65e"
      },
      "source": [
        "#### Question: Write a program in Python to print Sum of Digits."
      ]
    },
    {
      "cell_type": "code",
      "execution_count": null,
      "id": "67801baa",
      "metadata": {
        "id": "67801baa"
      },
      "outputs": [],
      "source": [
        "num = int(input(\"Enter a number: \"))\n",
        "sum_of_digits = 0\n",
        "\n",
        "while num > 0:\n",
        "    digit = num % 10\n",
        "    sum_of_digits += digit\n",
        "    num = num // 10\n",
        "\n",
        "print(f\"The sum of digits is: {sum_of_digits}\")"
      ]
    },
    {
      "cell_type": "markdown",
      "id": "945c43c4",
      "metadata": {
        "id": "945c43c4"
      },
      "source": [
        "#### Question: Write a program in Python to print Factors of a Number."
      ]
    },
    {
      "cell_type": "code",
      "execution_count": null,
      "id": "835ad19b",
      "metadata": {
        "id": "835ad19b"
      },
      "outputs": [],
      "source": [
        "num = int(input(\"Enter a number: \"))\n",
        "\n",
        "print(f\"The factors of {num} are:\")\n",
        "for i in range(1, num + 1):\n",
        "    if num % i == 0:\n",
        "        print(i)"
      ]
    },
    {
      "cell_type": "markdown",
      "id": "999f055f",
      "metadata": {
        "id": "999f055f"
      },
      "source": [
        "#### Question: Write a program in Python to print Reverse of a Number."
      ]
    },
    {
      "cell_type": "code",
      "execution_count": null,
      "id": "0f372c61",
      "metadata": {
        "id": "0f372c61"
      },
      "outputs": [],
      "source": [
        "num = int(input(\"Enter a number: \"))\n",
        "reverse_num = int(str(num)[::-1])\n",
        "\n",
        "print(f\"The reverse of {num} is: {reverse_num}\")"
      ]
    },
    {
      "cell_type": "markdown",
      "id": "97781eb4",
      "metadata": {
        "id": "97781eb4"
      },
      "source": [
        "#### Question: Write a Python program to find Factorial of a given number."
      ]
    },
    {
      "cell_type": "code",
      "execution_count": null,
      "id": "d7845927",
      "metadata": {
        "id": "d7845927"
      },
      "outputs": [],
      "source": [
        "def factorial(n):\n",
        "    if n == 0:\n",
        "        return 1\n",
        "    else:\n",
        "        return n * factorial(n-1)\n",
        "\n",
        "num = int(input(\"Enter a number: \"))\n",
        "result = factorial(num)\n",
        "print(f\"The factorial of {num} is: {result}\")"
      ]
    },
    {
      "cell_type": "markdown",
      "id": "48a0e1ff",
      "metadata": {
        "id": "48a0e1ff"
      },
      "source": [
        "#### Question: Write a Python program to check a number is palindrome or not."
      ]
    },
    {
      "cell_type": "code",
      "execution_count": null,
      "id": "09b78045",
      "metadata": {
        "id": "09b78045"
      },
      "outputs": [],
      "source": [
        "def is_palindrome(num):\n",
        "    num_str = str(num)\n",
        "    reverse_str = num_str[::-1]\n",
        "    return num_str == reverse_str\n",
        "\n",
        "num = int(input(\"Enter a number: \"))\n",
        "if is_palindrome(num):\n",
        "    print(f\"{num} is a palindrome.\")\n",
        "else:\n",
        "    print(f\"{num} is not a palindrome.\")"
      ]
    },
    {
      "cell_type": "markdown",
      "id": "e7ad9d72",
      "metadata": {
        "id": "e7ad9d72"
      },
      "source": [
        "#### Question: Write a Python program to check a number is prime or not."
      ]
    },
    {
      "cell_type": "code",
      "execution_count": null,
      "id": "14a2adac",
      "metadata": {
        "id": "14a2adac"
      },
      "outputs": [],
      "source": [
        "def is_prime(num):\n",
        "    if num <= 1:\n",
        "        return False\n",
        "    for i in range(2, int(num**0.5) + 1):\n",
        "        if num % i == 0:\n",
        "            return False\n",
        "    return True\n",
        "\n",
        "num = int(input(\"Enter a number: \"))\n",
        "\n",
        "if is_prime(num):\n",
        "    print(f\"{num} is a prime number.\")\n",
        "else:\n",
        "    print(f\"{num} is not a prime number.\")"
      ]
    },
    {
      "cell_type": "markdown",
      "id": "5d55996f",
      "metadata": {
        "id": "5d55996f"
      },
      "source": [
        "#### Question: Write a Python program to check a number is Armstrong or not."
      ]
    },
    {
      "cell_type": "code",
      "execution_count": null,
      "id": "20913d19",
      "metadata": {
        "id": "20913d19"
      },
      "outputs": [],
      "source": [
        "num = int(input(\"Enter a number: \"))\n",
        "\n",
        "num_str = str(num)\n",
        "sum_of_cubes = 0\n",
        "\n",
        "for digit in num_str:\n",
        "    sum_of_cubes += int(digit) ** len(num_str)\n",
        "\n",
        "if sum_of_cubes == num:\n",
        "    print(f\"{num} is an Armstrong number.\")\n",
        "else:\n",
        "    print(f\"{num} is not an Armstrong number.\")"
      ]
    },
    {
      "cell_type": "markdown",
      "id": "f92daa28",
      "metadata": {
        "id": "f92daa28"
      },
      "source": [
        "#### Question: Write a Python program to print Fibonacci series of n term."
      ]
    },
    {
      "cell_type": "code",
      "execution_count": null,
      "id": "3ab529b9",
      "metadata": {
        "id": "3ab529b9"
      },
      "outputs": [],
      "source": [
        "n = int(input(\"Enter the number of terms: \"))\n",
        "\n",
        "term1 = 0\n",
        "term2 = 1\n",
        "\n",
        "if n <= 0:\n",
        "    print(\"Please enter a positive integer.\")\n",
        "elif n == 1:\n",
        "    print(\"Fibonacci series up to\", n, \"term:\")\n",
        "    print(term1)\n",
        "else:\n",
        "    print(\"Fibonacci series up to\", n, \"terms:\")\n",
        "    print(term1)\n",
        "    print(term2)\n",
        "    for i in range(2, n):\n",
        "        next_term = term1 + term2\n",
        "        print(next_term)\n",
        "        term1 = term2\n",
        "        term2 = next_term"
      ]
    },
    {
      "cell_type": "markdown",
      "id": "ff6cc03b",
      "metadata": {
        "id": "ff6cc03b"
      },
      "source": [
        "#### Question: Write a Python program to implement multiplication table."
      ]
    },
    {
      "cell_type": "code",
      "execution_count": null,
      "id": "c9615891",
      "metadata": {
        "id": "c9615891"
      },
      "outputs": [],
      "source": [
        "num = int(input(\"Enter a number: \"))\n",
        "range_end = int(input(\"Enter the ending range: \"))\n",
        "\n",
        "print(f\"Multiplication table of {num} from 1 to {range_end}:\")\n",
        "for i in range(1, range_end + 1):\n",
        "    print(f\"{num} x {i} = {num * i}\")"
      ]
    },
    {
      "cell_type": "markdown",
      "id": "7495f55c",
      "metadata": {
        "id": "7495f55c"
      },
      "source": [
        "#### Question: Write a Python program to take a input from user in a list and print it."
      ]
    },
    {
      "cell_type": "code",
      "execution_count": null,
      "id": "fea95416",
      "metadata": {
        "id": "fea95416"
      },
      "outputs": [],
      "source": [
        "user_input = input(\"Enter a list of elements: \")\n",
        "user_list = user_input.split()\n",
        "\n",
        "print(\"The elements in the list are:\")\n",
        "for element in user_list:\n",
        "    print(element)"
      ]
    },
    {
      "cell_type": "markdown",
      "id": "da72b197",
      "metadata": {
        "id": "da72b197"
      },
      "source": [
        "#### Question: Write a Python program to find the average of n numbers using list."
      ]
    },
    {
      "cell_type": "code",
      "execution_count": null,
      "id": "53ed3488",
      "metadata": {
        "id": "53ed3488"
      },
      "outputs": [],
      "source": [
        "numbers = []\n",
        "n = int(input(\"Enter the number of elements: \"))\n",
        "for i in range(n):\n",
        "    num = float(input(\"Enter a number: \"))\n",
        "    numbers.append(num)\n",
        "\n",
        "sum_of_numbers = sum(numbers)\n",
        "average = sum_of_numbers / len(numbers)\n",
        "\n",
        "print(f\"The average of the numbers is: {average}\")"
      ]
    },
    {
      "cell_type": "markdown",
      "id": "46724b7a",
      "metadata": {
        "id": "46724b7a"
      },
      "source": [
        "#### Question: Write a Python program to find the largest element in the list."
      ]
    },
    {
      "cell_type": "code",
      "execution_count": null,
      "id": "0b25485c",
      "metadata": {
        "id": "0b25485c"
      },
      "outputs": [],
      "source": [
        "lst = [10, 5, 20, 15, 30]\n",
        "largest_element = max(lst)\n",
        "print(f\"The largest element in the list is: {largest_element}\")"
      ]
    },
    {
      "cell_type": "markdown",
      "id": "5a762f1e",
      "metadata": {
        "id": "5a762f1e"
      },
      "source": [
        "#### Question: Write a Python program to perform Linear search."
      ]
    },
    {
      "cell_type": "code",
      "execution_count": null,
      "id": "896f9730",
      "metadata": {
        "id": "896f9730"
      },
      "outputs": [],
      "source": [
        "def linear_search(lst, target):\n",
        "    for i in range(len(lst)):\n",
        "        if lst[i] == target:\n",
        "            return i\n",
        "    return -1\n",
        "\n",
        "lst = [10, 5, 20, 15, 30]\n",
        "target = 15\n",
        "\n",
        "index = linear_search(lst, target)\n",
        "\n",
        "if index != -1:\n",
        "    print(f\"Element {target} found at index {index}\")\n",
        "else:\n",
        "    print(f\"Element {target} not found in the list\")"
      ]
    },
    {
      "cell_type": "markdown",
      "id": "5fd814fb",
      "metadata": {
        "id": "5fd814fb"
      },
      "source": [
        "#### Question: Write a program that accepts sequence of lines as input and prints the lines after making all characters in the sentence capitalized."
      ]
    },
    {
      "cell_type": "code",
      "execution_count": null,
      "id": "45fdfb09",
      "metadata": {
        "id": "45fdfb09"
      },
      "outputs": [],
      "source": [
        "lines = []\n",
        "\n",
        "while True:\n",
        "    line = input(\"Enter a line (or 'q' to quit): \")\n",
        "    if line == 'q':\n",
        "        break\n",
        "    lines.append(line.upper())\n",
        "\n",
        "print(\"Lines after capitalization:\")\n",
        "for line in lines:\n",
        "    print(line)"
      ]
    },
    {
      "cell_type": "markdown",
      "id": "1b128962",
      "metadata": {
        "id": "1b128962"
      },
      "source": [
        "#### Question: Write a program which accepts a sequence of comma‐separated numbers from console and generate a list and a tuple which contains every number."
      ]
    },
    {
      "cell_type": "code",
      "execution_count": null,
      "id": "1d82d573",
      "metadata": {
        "id": "1d82d573"
      },
      "outputs": [],
      "source": [
        "numbers = input(\"Enter a sequence of comma-separated numbers: \")\n",
        "number_list = numbers.split(\",\")\n",
        "number_tuple = tuple(number_list)\n",
        "\n",
        "print(\"List:\", number_list)\n",
        "print(\"Tuple:\", number_tuple)"
      ]
    },
    {
      "cell_type": "markdown",
      "id": "23d2c36e",
      "metadata": {
        "id": "23d2c36e"
      },
      "source": [
        "#### Question: Write a program that computes the net amount of a bank account based a transaction log from console input."
      ]
    },
    {
      "cell_type": "code",
      "execution_count": null,
      "id": "246c0573",
      "metadata": {
        "id": "246c0573"
      },
      "outputs": [],
      "source": [
        "transaction_log = []\n",
        "net_amount = 0\n",
        "\n",
        "while True:\n",
        "    transaction = input(\"Enter a transaction (D/W amount) or 'q' to quit: \")\n",
        "    if transaction == 'q':\n",
        "        break\n",
        "    transaction_log.append(transaction)\n",
        "\n",
        "for transaction in transaction_log:\n",
        "    transaction_type, amount = transaction.split()\n",
        "    if transaction_type == 'D':\n",
        "        net_amount += int(amount)\n",
        "    elif transaction_type == 'W':\n",
        "        net_amount -= int(amount)\n",
        "\n",
        "print(\"Net amount:\", net_amount)"
      ]
    }
  ],
  "metadata": {
    "kernelspec": {
      "display_name": "Python 3",
      "language": "python",
      "name": "python3"
    },
    "language_info": {
      "codemirror_mode": {
        "name": "ipython",
        "version": 3
      },
      "file_extension": ".py",
      "mimetype": "text/x-python",
      "name": "python",
      "nbconvert_exporter": "python",
      "pygments_lexer": "ipython3",
      "version": "3.12.0"
    },
    "colab": {
      "provenance": [],
      "include_colab_link": true
    }
  },
  "nbformat": 4,
  "nbformat_minor": 5
}